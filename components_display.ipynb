{
 "cells": [
  {
   "cell_type": "code",
   "execution_count": 29,
   "metadata": {},
   "outputs": [
    {
     "name": "stdout",
     "output_type": "stream",
     "text": [
      "principle images loaded\n",
      "<class 'list'>\n",
      "20\n"
     ]
    },
    {
     "data": {
      "application/vnd.jupyter.widget-view+json": {
       "model_id": "607ecc6c285b4fefa9b3bbc97f20ca8e",
       "version_major": 2,
       "version_minor": 0
      },
      "text/plain": [
       "Output()"
      ]
     },
     "metadata": {},
     "output_type": "display_data"
    },
    {
     "data": {
      "application/vnd.jupyter.widget-view+json": {
       "model_id": "b822d18f99b942f1a8874c7290fe1a73",
       "version_major": 2,
       "version_minor": 0
      },
      "text/plain": [
       "HBox(children=(FloatSlider(value=0.0, description='Prin.1', max=0.99, min=-0.99, orientation='vertical'), Floa…"
      ]
     },
     "metadata": {},
     "output_type": "display_data"
    }
   ],
   "source": [
    "import ipywidgets as widgets\n",
    "from ipywidgets import interactive_output\n",
    "import matplotlib.pyplot as plt    \n",
    "\n",
    "from IPython.display import display\n",
    "import numpy as np\n",
    "import cv2\n",
    "import time\n",
    "path = \"./principle\"\n",
    "images = []\n",
    "for i in range(0, 20):\n",
    "    image_path = path+f\"/p{i}.png\"\n",
    "    img = cv2.imread(image_path)\n",
    "    images.append(np.array(img[:,:,[2,1,0]]))\n",
    "mean_img = cv2.imread(path+f\"/mean.png\")\n",
    "output=np.array(mean_img[:,:,[2,1,0]])\n",
    "print(\"principle images loaded\")\n",
    "\n",
    "weights=[widgets.FloatSlider(min=-0.99,max=0.99,description=\"Prin.\"+str(i),orientation='vertical') for i in range(1,21)]\n",
    "Weight_bars=widgets.HBox(weights)\n",
    "\n",
    "print(type(weights))\n",
    "print(len(weights))\n",
    "pre_weights=[0 for i in range(0,20)]\n",
    "\n",
    "def weighted_generator(val,i):\n",
    "    global pre_weights\n",
    "    if val != pre_weights[i]:\n",
    "        global output \n",
    "        output += np.int8((val-pre_weights[i]))*images[i]\n",
    "        pre_weights[i] = val\n",
    "\n",
    "\n",
    "def weighting(w0,w1,w2,w3,w4,w5,w6,w7,w8,w9,w10,w11,w12,w13,w14,w15,w16,w17,w18,w19):\n",
    "    #start = time.time()\n",
    "    weighted_generator(w0,0)\n",
    "    weighted_generator(w1,1)\n",
    "    weighted_generator(w2,2)\n",
    "    weighted_generator(w3,3)\n",
    "    weighted_generator(w4,4)\n",
    "    weighted_generator(w5,5)\n",
    "    weighted_generator(w6,6)\n",
    "    weighted_generator(w7,7)\n",
    "    weighted_generator(w8,8)\n",
    "    weighted_generator(w9,9)\n",
    "    weighted_generator(w10,10)\n",
    "    weighted_generator(w11,11)\n",
    "    weighted_generator(w12,12)\n",
    "    weighted_generator(w13,13)\n",
    "    weighted_generator(w14,14)\n",
    "    weighted_generator(w15,15)\n",
    "    weighted_generator(w16,16)\n",
    "    weighted_generator(w17,17)\n",
    "    weighted_generator(w18,18)\n",
    "    weighted_generator(w19,19)\n",
    "    #mid = time.time()\n",
    "    plt.figure(figsize=(20,20))\n",
    "    plt.imshow(output)\n",
    "    #end = time.time()\n",
    "    #print(end-start, mid-start)\n",
    "\n",
    "\n",
    "interface = interactive_output(weighting,{\n",
    "'w0':weights[0],\n",
    "'w1':weights[1],\n",
    "'w2':weights[2],\n",
    "'w3':weights[3],\n",
    "'w4':weights[4],\n",
    "'w5':weights[5],\n",
    "'w6':weights[6],\n",
    "'w7':weights[7],\n",
    "'w8':weights[8],\n",
    "'w9':weights[9],\n",
    "'w10':weights[10],\n",
    "'w11':weights[11],\n",
    "'w12':weights[12],\n",
    "'w13':weights[13],\n",
    "'w14':weights[14],\n",
    "'w15':weights[15],\n",
    "'w16':weights[16],\n",
    "'w17':weights[17],\n",
    "'w18':weights[18],\n",
    "'w19':weights[19]})\n",
    "display(interface,Weight_bars)\n",
    "\n"
   ]
  }
 ],
 "metadata": {
  "interpreter": {
   "hash": "40d3a090f54c6569ab1632332b64b2c03c39dcf918b08424e98f38b5ae0af88f"
  },
  "kernelspec": {
   "display_name": "Python 3",
   "language": "python",
   "name": "python3"
  },
  "language_info": {
   "codemirror_mode": {
    "name": "ipython",
    "version": 3
   },
   "file_extension": ".py",
   "mimetype": "text/x-python",
   "name": "python",
   "nbconvert_exporter": "python",
   "pygments_lexer": "ipython3",
   "version": "3.9.7"
  }
 },
 "nbformat": 4,
 "nbformat_minor": 2
}
