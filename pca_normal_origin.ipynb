{
 "cells": [
  {
   "cell_type": "code",
   "execution_count": 3,
   "metadata": {},
   "outputs": [
    {
     "name": "stdout",
     "output_type": "stream",
     "text": [
      "(98, 50331648)\n"
     ]
    },
    {
     "name": "stderr",
     "output_type": "stream",
     "text": [
      "/tmp/ipykernel_3435016/1290406011.py:18: DeprecationWarning: `np.float` is a deprecated alias for the builtin `float`. To silence this warning, use `float` by itself. Doing this will not modify any behavior and is safe. If you specifically wanted the numpy scalar type, use `np.float64` here.\n",
      "Deprecated in NumPy 1.20; for more details and guidance: https://numpy.org/devdocs/release/1.20.0-notes.html#deprecations\n",
      "  image=(image.astype(np.float)-128)/127\n"
     ]
    }
   ],
   "source": [
    "from sklearn.decomposition import PCA\n",
    "import numpy as np\n",
    "import cv2\n",
    "\n",
    "folder_path = \"./normal\"\n",
    "input=[]\n",
    "for i in range(1, 100):\n",
    "    if i==60:\n",
    "        continue\n",
    "    image_path = folder_path+f\"/total_matrix_tangent {i}.png\"\n",
    "    input.append(cv2.imread(image_path).reshape(-1))\n",
    "    # print(input[i-1].shape,i-1)\n",
    "image = np.stack(input,axis=1)\n",
    "\n",
    "print(image.T.shape)\n",
    "image = image.T\n",
    "\n",
    "image=(image.astype(np.float)-128)/127\n"
   ]
  },
  {
   "cell_type": "code",
   "execution_count": null,
   "metadata": {},
   "outputs": [],
   "source": [
    "pca=PCA(n_components=20)\n",
    "pca.fit(image)\n",
    "\n",
    "\n",
    "result=pca.components_\n",
    "result+=pca.mean_\n",
    "result=result.reshape(-1,4096,4096,3)\n",
    "dst=result/np.linalg.norm(result,axis=(3),keepdims=True)\n",
    "for i in range(20):\n",
    "    reconImage=(dst)[i].reshape(4096,4096,3)*127+128\n",
    "\n",
    "    cv2.imwrite(\"p\"+str(i)+\".png\",reconImage)\n"
   ]
  },
  {
   "cell_type": "code",
   "execution_count": 3,
   "metadata": {},
   "outputs": [
    {
     "ename": "NameError",
     "evalue": "name 'pca' is not defined",
     "output_type": "error",
     "traceback": [
      "\u001b[0;31m---------------------------------------------------------------------------\u001b[0m",
      "\u001b[0;31mNameError\u001b[0m                                 Traceback (most recent call last)",
      "\u001b[0;32m/tmp/ipykernel_3433880/2457595658.py\u001b[0m in \u001b[0;36m<module>\u001b[0;34m\u001b[0m\n\u001b[1;32m      1\u001b[0m \u001b[0;32mimport\u001b[0m \u001b[0mjoblib\u001b[0m\u001b[0;34m\u001b[0m\u001b[0;34m\u001b[0m\u001b[0m\n\u001b[0;32m----> 2\u001b[0;31m \u001b[0mjoblib\u001b[0m\u001b[0;34m.\u001b[0m\u001b[0mdump\u001b[0m\u001b[0;34m(\u001b[0m\u001b[0mpca\u001b[0m\u001b[0;34m,\u001b[0m \u001b[0;34m'/Users/wuyiwen/Desktop/PCA/model.pkl'\u001b[0m\u001b[0;34m)\u001b[0m\u001b[0;34m\u001b[0m\u001b[0;34m\u001b[0m\u001b[0m\n\u001b[0m",
      "\u001b[0;31mNameError\u001b[0m: name 'pca' is not defined"
     ]
    }
   ],
   "source": [
    "import joblib\n",
    "joblib.dump(pca, 'model.pkl')"
   ]
  },
  {
   "cell_type": "code",
   "execution_count": 14,
   "metadata": {},
   "outputs": [
    {
     "name": "stdout",
     "output_type": "stream",
     "text": [
      "PCA(n_components=20)\n"
     ]
    }
   ],
   "source": [
    "import joblib\n",
    "\n",
    "pca=joblib.load(\"model.pkl\")\n",
    "print(pca)"
   ]
  },
  {
   "cell_type": "code",
   "execution_count": 4,
   "metadata": {},
   "outputs": [
    {
     "name": "stdout",
     "output_type": "stream",
     "text": [
      "(1, 20)\n",
      "[[-166.84669988  161.432668   -257.31041379 -288.78578579  -22.86438237\n",
      "    71.04964238  -47.0180723    88.66151118  -55.66119261  -35.94763708\n",
      "    22.92460973   34.55922761  -27.60474279   52.44108699  -12.89235037\n",
      "    51.55815103   -7.03471646 -103.78773003  -91.16106375   82.67197346]]\n"
     ]
    }
   ],
   "source": [
    "transform=pca.transform(image[50].reshape(1,-1))\n",
    "print(transform.shape)\n",
    "print(transform)"
   ]
  },
  {
   "cell_type": "code",
   "execution_count": 1,
   "metadata": {},
   "outputs": [
    {
     "name": "stdout",
     "output_type": "stream",
     "text": [
      "PCA(n_components=20)\n"
     ]
    },
    {
     "name": "stderr",
     "output_type": "stream",
     "text": [
      "/home/lzb/anaconda3/envs/PCA2/lib/python3.9/site-packages/sklearn/base.py:310: UserWarning: Trying to unpickle estimator PCA from version 1.0.2 when using version 0.24.2. This might lead to breaking code or invalid results. Use at your own risk.\n",
      "  warnings.warn(\n"
     ]
    },
    {
     "data": {
      "application/vnd.jupyter.widget-view+json": {
       "model_id": "2289bd5f8e794e75895ee0b545ca3e85",
       "version_major": 2,
       "version_minor": 0
      },
      "text/plain": [
       "Output()"
      ]
     },
     "metadata": {},
     "output_type": "display_data"
    },
    {
     "data": {
      "application/vnd.jupyter.widget-view+json": {
       "model_id": "e87a09fbe3274afc80e7a909dfefac0e",
       "version_major": 2,
       "version_minor": 0
      },
      "text/plain": [
       "HBox(children=(FloatSlider(value=0.0, description='w0', max=400.0, min=-400.0, orientation='vertical'), FloatS…"
      ]
     },
     "metadata": {},
     "output_type": "display_data"
    }
   ],
   "source": [
    "import ipywidgets as widgets\n",
    "from ipywidgets import interactive_output\n",
    "import matplotlib.pyplot as plt    \n",
    "\n",
    "from IPython.display import display\n",
    "import numpy as np\n",
    "import cv2\n",
    "import joblib\n",
    "\n",
    "pca=joblib.load(\"model_fixed_32.pkl\")\n",
    "print(pca)\n",
    "\n",
    "items=[]\n",
    "\n",
    "\n",
    "\n",
    "w0=widgets.FloatSlider(min=-400,max=400,description=\"w0\",orientation='vertical')\n",
    "w1=widgets.FloatSlider(min=-400,max=400,description=\"w1\",orientation='vertical')\n",
    "w2=widgets.FloatSlider(min=-400,max=400,description=\"w2\",orientation='vertical')\n",
    "w3=widgets.FloatSlider(min=-400,max=400,description=\"w3\",orientation='vertical')\n",
    "w4=widgets.FloatSlider(min=-400,max=400,description=\"w4\",orientation='vertical')\n",
    "w5=widgets.FloatSlider(min=-400,max=400,description=\"w5\",orientation='vertical')\n",
    "w6=widgets.FloatSlider(min=-400,max=400,description=\"w6\",orientation='vertical')\n",
    "w7=widgets.FloatSlider(min=-400,max=400,description=\"w7\",orientation='vertical')\n",
    "w8=widgets.FloatSlider(min=-400,max=400,description=\"w8\",orientation='vertical')\n",
    "w9=widgets.FloatSlider(min=-400,max=400,description=\"w9\",orientation='vertical')\n",
    "w10=widgets.FloatSlider(min=-400,max=400,description=\"w10\",orientation='vertical')\n",
    "w11=widgets.FloatSlider(min=-400,max=400,description=\"w11\",orientation='vertical')\n",
    "w12=widgets.FloatSlider(min=-400,max=400,description=\"w12\",orientation='vertical')\n",
    "w13=widgets.FloatSlider(min=-400,max=400,description=\"w13\",orientation='vertical')\n",
    "w14=widgets.FloatSlider(min=-400,max=400,description=\"w14\",orientation='vertical')\n",
    "w15=widgets.FloatSlider(min=-400,max=400,description=\"w15\",orientation='vertical')\n",
    "w16=widgets.FloatSlider(min=-400,max=400,description=\"w16\",orientation='vertical')\n",
    "w17=widgets.FloatSlider(min=-400,max=400,description=\"w17\",orientation='vertical')\n",
    "w18=widgets.FloatSlider(min=-400,max=400,description=\"w18\",orientation='vertical')\n",
    "w19=widgets.FloatSlider(min=-400,max=400,description=\"w19\",orientation='vertical')\n",
    "\n",
    "ui=widgets.HBox([w0,w1,w2,w3,w4,w5,w6,w7,w8,w9,w10,w11,w12,w13,w14,w15,w16,w17,w18,w19])\n",
    "\n",
    "# display(ui)\n",
    "# imgbox = widgets.Image(format='png', height=512, width=512)\n",
    "# display(imgbox)\n",
    "\n",
    "\n",
    "def f(w0,w1,w2,w3,w4,w5,w6,w7,w8,w9,w10,w11,w12,w13,w14,w15,w16,w17,w18,w19):\n",
    "\n",
    "    output=np.zeros(4096*4096*3)\n",
    "    \n",
    "    output+=w0*pca.components_[0]\n",
    "    output+=w1*pca.components_[1]\n",
    "    output+=w2*pca.components_[2]\n",
    "    output+=w3*pca.components_[3]\n",
    "    output+=w4*pca.components_[4]\n",
    "    output+=w5*pca.components_[5]\n",
    "    output+=w6*pca.components_[6]\n",
    "    output+=w7*pca.components_[7]\n",
    "    output+=w8*pca.components_[8]\n",
    "    output+=w9*pca.components_[9]\n",
    "    output+=w10*pca.components_[10]\n",
    "    output+=w11*pca.components_[11]\n",
    "    output+=w12*pca.components_[12]\n",
    "    output+=w13*pca.components_[13]\n",
    "    output+=w14*pca.components_[14]\n",
    "    output+=w15*pca.components_[15]\n",
    "    output+=w16*pca.components_[16]\n",
    "    output+=w17*pca.components_[17]\n",
    "    output+=w18*pca.components_[18]\n",
    "    output+=w19*pca.components_[19]\n",
    "\n",
    "    output+=pca.mean_\n",
    "    output=output.reshape(4096,4096,3)\n",
    "    output_image=output/np.linalg.norm(output,axis=(2),keepdims=True)\n",
    "    Image=(output_image.reshape(4096,4096,3)*127+128)\n",
    "    Image=Image[:,:,[2,1,0]]\n",
    "    plt.figure(figsize=(20,20))\n",
    "    plt.imshow(Image)\n",
    "\n",
    "\n",
    "\n",
    "a=interactive_output(f,{\"w0\":w0,\n",
    "                 \"w1\":w1,\n",
    "                 \"w2\":w2,\n",
    "                 \"w3\":w3,\n",
    "                 \"w4\":w4,\n",
    "                 \"w5\":w5,\n",
    "                 \"w6\":w6,\n",
    "                 \"w7\":w7,\n",
    "                 \"w8\":w8,\n",
    "                 \"w9\":w9,\n",
    "                 \"w10\":w10,\n",
    "                 \"w11\":w11,\n",
    "                 \"w12\":w12,\n",
    "                 \"w13\":w13,\n",
    "                 \"w14\":w14,\n",
    "                 \"w15\":w15,\n",
    "                 \"w16\":w16,\n",
    "                 \"w17\":w17,\n",
    "                 \"w18\":w18,\n",
    "                 \"w19\":w19}\n",
    "        )\n",
    "\n",
    "display(a,ui)"
   ]
  },
  {
   "cell_type": "code",
   "execution_count": 5,
   "metadata": {},
   "outputs": [
    {
     "data": {
      "text/plain": [
       "39.8"
      ]
     },
     "execution_count": 5,
     "metadata": {},
     "output_type": "execute_result"
    }
   ],
   "source": []
  },
  {
   "cell_type": "code",
   "execution_count": null,
   "metadata": {},
   "outputs": [],
   "source": []
  }
 ],
 "metadata": {
  "interpreter": {
   "hash": "40d3a090f54c6569ab1632332b64b2c03c39dcf918b08424e98f38b5ae0af88f"
  },
  "kernelspec": {
   "display_name": "Python 3",
   "language": "python",
   "name": "python3"
  },
  "language_info": {
   "codemirror_mode": {
    "name": "ipython",
    "version": 3
   },
   "file_extension": ".py",
   "mimetype": "text/x-python",
   "name": "python",
   "nbconvert_exporter": "python",
   "pygments_lexer": "ipython3",
   "version": "3.9.7"
  }
 },
 "nbformat": 4,
 "nbformat_minor": 2
}
